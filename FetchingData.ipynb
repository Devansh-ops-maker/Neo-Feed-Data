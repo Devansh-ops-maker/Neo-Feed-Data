{
 "cells": [
  {
   "cell_type": "code",
   "execution_count": 10,
   "id": "21d45fc0-8623-451a-a4bd-3b2d4faa3294",
   "metadata": {},
   "outputs": [],
   "source": [
    "\n",
    "import pandas as pd\n",
    "import numpy as np\n",
    "import requests"
   ]
  },
  {
   "cell_type": "code",
   "execution_count": 9,
   "id": "b5d60336-70eb-4b11-9039-cc74a7ea7110",
   "metadata": {},
   "outputs": [
    {
     "name": "stdout",
     "output_type": "stream",
     "text": [
      "Requirement already satisfied: requests in c:\\users\\ayush singh\\appdata\\local\\programs\\python\\python39\\lib\\site-packages (2.32.3)\n",
      "Requirement already satisfied: urllib3<3,>=1.21.1 in c:\\users\\ayush singh\\appdata\\local\\programs\\python\\python39\\lib\\site-packages (from requests) (2.2.3)\n",
      "Requirement already satisfied: certifi>=2017.4.17 in c:\\users\\ayush singh\\appdata\\local\\programs\\python\\python39\\lib\\site-packages (from requests) (2024.12.14)\n",
      "Requirement already satisfied: charset-normalizer<4,>=2 in c:\\users\\ayush singh\\appdata\\local\\programs\\python\\python39\\lib\\site-packages (from requests) (3.4.0)\n",
      "Requirement already satisfied: idna<4,>=2.5 in c:\\users\\ayush singh\\appdata\\local\\programs\\python\\python39\\lib\\site-packages (from requests) (3.10)\n",
      "Note: you may need to restart the kernel to use updated packages.\n"
     ]
    },
    {
     "name": "stderr",
     "output_type": "stream",
     "text": [
      "WARNING: You are using pip version 20.2.3; however, version 25.1.1 is available.\n",
      "You should consider upgrading via the 'c:\\users\\ayush singh\\appdata\\local\\programs\\python\\python39\\python.exe -m pip install --upgrade pip' command.\n"
     ]
    }
   ],
   "source": []
  },
  {
   "cell_type": "code",
   "execution_count": 21,
   "id": "413bcb8b-8821-47e6-a0d8-ca28775cd72d",
   "metadata": {},
   "outputs": [
    {
     "data": {
      "text/html": [
       "<div>\n",
       "<style scoped>\n",
       "    .dataframe tbody tr th:only-of-type {\n",
       "        vertical-align: middle;\n",
       "    }\n",
       "\n",
       "    .dataframe tbody tr th {\n",
       "        vertical-align: top;\n",
       "    }\n",
       "\n",
       "    .dataframe thead th {\n",
       "        text-align: right;\n",
       "    }\n",
       "</style>\n",
       "<table border=\"1\" class=\"dataframe\">\n",
       "  <thead>\n",
       "    <tr style=\"text-align: right;\">\n",
       "      <th></th>\n",
       "    </tr>\n",
       "  </thead>\n",
       "  <tbody>\n",
       "  </tbody>\n",
       "</table>\n",
       "</div>"
      ],
      "text/plain": [
       "Empty DataFrame\n",
       "Columns: []\n",
       "Index: []"
      ]
     },
     "execution_count": 21,
     "metadata": {},
     "output_type": "execute_result"
    }
   ],
   "source": []
  },
  {
   "cell_type": "code",
   "execution_count": 11,
   "id": "dec4fb89-5ca3-4f9f-be63-8e35c7830a14",
   "metadata": {},
   "outputs": [],
   "source": [
    "df=pd.DataFrame()\n",
    "df\n",
    "for i in range (1,9):\n",
    "    response=requests.get('https://api.nasa.gov/neo/rest/v1/feed?start_date=2025-02-01&end_date=2025-02-8&api_key=DEMO_KEY')\n",
    "    temp_data=pd.DataFrame(response.json()['near_earth_objects']['2025-02-0{}'.format(i)])[['id','neo_reference_id','name','absolute_magnitude_h','is_potentially_hazardous_asteroid','is_sentry_object']]\n",
    "    df = pd.concat([df, temp_data], ignore_index=True)\n"
   ]
  },
  {
   "cell_type": "code",
   "execution_count": 12,
   "id": "e473393a-2530-4caa-845b-41cc5d49b973",
   "metadata": {},
   "outputs": [
    {
     "data": {
      "text/html": [
       "<div>\n",
       "<style scoped>\n",
       "    .dataframe tbody tr th:only-of-type {\n",
       "        vertical-align: middle;\n",
       "    }\n",
       "\n",
       "    .dataframe tbody tr th {\n",
       "        vertical-align: top;\n",
       "    }\n",
       "\n",
       "    .dataframe thead th {\n",
       "        text-align: right;\n",
       "    }\n",
       "</style>\n",
       "<table border=\"1\" class=\"dataframe\">\n",
       "  <thead>\n",
       "    <tr style=\"text-align: right;\">\n",
       "      <th></th>\n",
       "      <th>id</th>\n",
       "      <th>neo_reference_id</th>\n",
       "      <th>name</th>\n",
       "      <th>absolute_magnitude_h</th>\n",
       "      <th>is_potentially_hazardous_asteroid</th>\n",
       "      <th>is_sentry_object</th>\n",
       "    </tr>\n",
       "  </thead>\n",
       "  <tbody>\n",
       "    <tr>\n",
       "      <th>0</th>\n",
       "      <td>3729141</td>\n",
       "      <td>3729141</td>\n",
       "      <td>(2015 TQ21)</td>\n",
       "      <td>27.40</td>\n",
       "      <td>False</td>\n",
       "      <td>False</td>\n",
       "    </tr>\n",
       "    <tr>\n",
       "      <th>1</th>\n",
       "      <td>3741971</td>\n",
       "      <td>3741971</td>\n",
       "      <td>(2016 CA30)</td>\n",
       "      <td>27.50</td>\n",
       "      <td>False</td>\n",
       "      <td>False</td>\n",
       "    </tr>\n",
       "    <tr>\n",
       "      <th>2</th>\n",
       "      <td>3743127</td>\n",
       "      <td>3743127</td>\n",
       "      <td>(2016 CZ192)</td>\n",
       "      <td>24.60</td>\n",
       "      <td>False</td>\n",
       "      <td>False</td>\n",
       "    </tr>\n",
       "    <tr>\n",
       "      <th>3</th>\n",
       "      <td>3745113</td>\n",
       "      <td>3745113</td>\n",
       "      <td>(2016 EL27)</td>\n",
       "      <td>26.10</td>\n",
       "      <td>False</td>\n",
       "      <td>False</td>\n",
       "    </tr>\n",
       "    <tr>\n",
       "      <th>4</th>\n",
       "      <td>3797901</td>\n",
       "      <td>3797901</td>\n",
       "      <td>(2018 BG5)</td>\n",
       "      <td>24.08</td>\n",
       "      <td>False</td>\n",
       "      <td>False</td>\n",
       "    </tr>\n",
       "    <tr>\n",
       "      <th>...</th>\n",
       "      <td>...</td>\n",
       "      <td>...</td>\n",
       "      <td>...</td>\n",
       "      <td>...</td>\n",
       "      <td>...</td>\n",
       "      <td>...</td>\n",
       "    </tr>\n",
       "    <tr>\n",
       "      <th>117</th>\n",
       "      <td>54518079</td>\n",
       "      <td>54518079</td>\n",
       "      <td>(2025 CK)</td>\n",
       "      <td>28.25</td>\n",
       "      <td>False</td>\n",
       "      <td>False</td>\n",
       "    </tr>\n",
       "    <tr>\n",
       "      <th>118</th>\n",
       "      <td>54518918</td>\n",
       "      <td>54518918</td>\n",
       "      <td>(2025 CK2)</td>\n",
       "      <td>24.34</td>\n",
       "      <td>False</td>\n",
       "      <td>False</td>\n",
       "    </tr>\n",
       "    <tr>\n",
       "      <th>119</th>\n",
       "      <td>54520537</td>\n",
       "      <td>54520537</td>\n",
       "      <td>(2025 DD5)</td>\n",
       "      <td>23.20</td>\n",
       "      <td>False</td>\n",
       "      <td>False</td>\n",
       "    </tr>\n",
       "    <tr>\n",
       "      <th>120</th>\n",
       "      <td>54520713</td>\n",
       "      <td>54520713</td>\n",
       "      <td>(2025 DX5)</td>\n",
       "      <td>23.28</td>\n",
       "      <td>False</td>\n",
       "      <td>False</td>\n",
       "    </tr>\n",
       "    <tr>\n",
       "      <th>121</th>\n",
       "      <td>54520813</td>\n",
       "      <td>54520813</td>\n",
       "      <td>(2025 DQ7)</td>\n",
       "      <td>21.67</td>\n",
       "      <td>True</td>\n",
       "      <td>False</td>\n",
       "    </tr>\n",
       "  </tbody>\n",
       "</table>\n",
       "<p>122 rows × 6 columns</p>\n",
       "</div>"
      ],
      "text/plain": [
       "           id neo_reference_id          name  absolute_magnitude_h  \\\n",
       "0     3729141          3729141   (2015 TQ21)                 27.40   \n",
       "1     3741971          3741971   (2016 CA30)                 27.50   \n",
       "2     3743127          3743127  (2016 CZ192)                 24.60   \n",
       "3     3745113          3745113   (2016 EL27)                 26.10   \n",
       "4     3797901          3797901    (2018 BG5)                 24.08   \n",
       "..        ...              ...           ...                   ...   \n",
       "117  54518079         54518079     (2025 CK)                 28.25   \n",
       "118  54518918         54518918    (2025 CK2)                 24.34   \n",
       "119  54520537         54520537    (2025 DD5)                 23.20   \n",
       "120  54520713         54520713    (2025 DX5)                 23.28   \n",
       "121  54520813         54520813    (2025 DQ7)                 21.67   \n",
       "\n",
       "     is_potentially_hazardous_asteroid  is_sentry_object  \n",
       "0                                False             False  \n",
       "1                                False             False  \n",
       "2                                False             False  \n",
       "3                                False             False  \n",
       "4                                False             False  \n",
       "..                                 ...               ...  \n",
       "117                              False             False  \n",
       "118                              False             False  \n",
       "119                              False             False  \n",
       "120                              False             False  \n",
       "121                               True             False  \n",
       "\n",
       "[122 rows x 6 columns]"
      ]
     },
     "execution_count": 12,
     "metadata": {},
     "output_type": "execute_result"
    }
   ],
   "source": [
    "df"
   ]
  },
  {
   "cell_type": "code",
   "execution_count": 14,
   "id": "844f6bda-0370-43fc-8da7-2dd652f4e296",
   "metadata": {},
   "outputs": [],
   "source": [
    "df.to_csv(\"asteroids.csv\", index=False, encoding='utf-8', sep=',', quotechar='\"')\n"
   ]
  },
  {
   "cell_type": "code",
   "execution_count": null,
   "id": "c837ece2-2bdc-44a1-8b18-d7c0bec1c589",
   "metadata": {},
   "outputs": [],
   "source": []
  }
 ],
 "metadata": {
  "kernelspec": {
   "display_name": "Python 3 (ipykernel)",
   "language": "python",
   "name": "python3"
  },
  "language_info": {
   "codemirror_mode": {
    "name": "ipython",
    "version": 3
   },
   "file_extension": ".py",
   "mimetype": "text/x-python",
   "name": "python",
   "nbconvert_exporter": "python",
   "pygments_lexer": "ipython3",
   "version": "3.9.1rc1"
  }
 },
 "nbformat": 4,
 "nbformat_minor": 5
}
